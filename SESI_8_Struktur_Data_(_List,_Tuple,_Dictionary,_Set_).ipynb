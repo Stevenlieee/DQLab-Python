{
  "nbformat": 4,
  "nbformat_minor": 0,
  "metadata": {
    "colab": {
      "provenance": []
    },
    "kernelspec": {
      "name": "python3",
      "display_name": "Python 3"
    },
    "language_info": {
      "name": "python"
    }
  },
  "cells": [
    {
      "cell_type": "markdown",
      "source": [
        "# LIST"
      ],
      "metadata": {
        "id": "eCdQUJJF7rUJ"
      }
    },
    {
      "cell_type": "code",
      "execution_count": 71,
      "metadata": {
        "colab": {
          "base_uri": "https://localhost:8080/"
        },
        "id": "295wqGUs7efc",
        "outputId": "92bf8812-7129-4b49-d997-0ca99495b1af"
      },
      "outputs": [
        {
          "output_type": "stream",
          "name": "stdout",
          "text": [
            "['Amir', 'Budi', 'Cinta', 'Dimas', 'Edi']\n"
          ]
        }
      ],
      "source": [
        "# Variabel nama teman\n",
        "nama_teman = [ 'Amir', 'Budi', 'Cinta', 'Dimas', 'Edi' ]\n",
        "print(nama_teman)"
      ]
    },
    {
      "cell_type": "code",
      "source": [
        "# Mengukur jumlah list\n",
        "len(nama_teman)"
      ],
      "metadata": {
        "colab": {
          "base_uri": "https://localhost:8080/"
        },
        "id": "1Avbz5XK8Py7",
        "outputId": "e130197e-61d8-49cc-ff5c-f3103f343817"
      },
      "execution_count": 2,
      "outputs": [
        {
          "output_type": "execute_result",
          "data": {
            "text/plain": [
              "5"
            ]
          },
          "metadata": {},
          "execution_count": 2
        }
      ]
    },
    {
      "cell_type": "code",
      "source": [
        "acak = [ 'Amir', 17 , 70.5, 'Jeruk' ]\n",
        "print(acak)"
      ],
      "metadata": {
        "colab": {
          "base_uri": "https://localhost:8080/"
        },
        "id": "thx157ef8s15",
        "outputId": "7e3e51e7-fa77-483c-ea96-cf943b1d092e"
      },
      "execution_count": 72,
      "outputs": [
        {
          "output_type": "stream",
          "name": "stdout",
          "text": [
            "['Amir', 17, 70.5, 'Jeruk']\n"
          ]
        }
      ]
    },
    {
      "cell_type": "code",
      "source": [
        "print(type(nama_teman))\n",
        "print(type(acak))"
      ],
      "metadata": {
        "colab": {
          "base_uri": "https://localhost:8080/"
        },
        "id": "ciTSZ2GY81_U",
        "outputId": "9b100a1f-22cf-4a21-9fc8-7fea01002d63"
      },
      "execution_count": 5,
      "outputs": [
        {
          "output_type": "stream",
          "name": "stdout",
          "text": [
            "<class 'list'>\n",
            "<class 'list'>\n"
          ]
        }
      ]
    },
    {
      "cell_type": "code",
      "source": [
        "buah = ['Jeruk', 'Apel', 'Mangga', 'Jeruk']\n",
        "buah"
      ],
      "metadata": {
        "colab": {
          "base_uri": "https://localhost:8080/"
        },
        "id": "fLiaf-Nb9Cm5",
        "outputId": "c87ee9dc-6682-411d-935f-da520203f2e7"
      },
      "execution_count": 73,
      "outputs": [
        {
          "output_type": "execute_result",
          "data": {
            "text/plain": [
              "['Jeruk', 'Apel', 'Mangga', 'Jeruk']"
            ]
          },
          "metadata": {},
          "execution_count": 73
        }
      ]
    },
    {
      "cell_type": "code",
      "source": [
        "# Memanggil satu elemen\n",
        "#  'Amir', 'Budi', 'Cinta', 'Dimas', 'Edi'\n",
        "print(nama_teman[0])\n",
        "print(nama_teman[4])"
      ],
      "metadata": {
        "colab": {
          "base_uri": "https://localhost:8080/"
        },
        "id": "eourLjPV9dD5",
        "outputId": "1112aba2-cbee-4fa4-a84b-d6d5375d4734"
      },
      "execution_count": 74,
      "outputs": [
        {
          "output_type": "stream",
          "name": "stdout",
          "text": [
            "Amir\n",
            "Edi\n"
          ]
        }
      ]
    },
    {
      "cell_type": "code",
      "source": [
        "# Mengganti value dalam elemen\n",
        "nama_teman[0] = 'Andi'\n",
        "nama_teman"
      ],
      "metadata": {
        "colab": {
          "base_uri": "https://localhost:8080/"
        },
        "id": "4bnEEWMq9q-8",
        "outputId": "3864fa75-462c-4db3-ba72-514f1b485bdf"
      },
      "execution_count": 75,
      "outputs": [
        {
          "output_type": "execute_result",
          "data": {
            "text/plain": [
              "['Andi', 'Budi', 'Cinta', 'Dimas', 'Edi']"
            ]
          },
          "metadata": {},
          "execution_count": 75
        }
      ]
    },
    {
      "cell_type": "code",
      "source": [
        "nama_teman[0:2] = 'Asep', 'Bobby'"
      ],
      "metadata": {
        "id": "_-xVV8vy91ss"
      },
      "execution_count": 76,
      "outputs": []
    },
    {
      "cell_type": "code",
      "source": [
        "nama_teman"
      ],
      "metadata": {
        "colab": {
          "base_uri": "https://localhost:8080/"
        },
        "id": "4QSnjU9S-FbL",
        "outputId": "b2c05e1d-76b2-4928-bfd7-b682edbe0bf4"
      },
      "execution_count": 77,
      "outputs": [
        {
          "output_type": "execute_result",
          "data": {
            "text/plain": [
              "['Asep', 'Bobby', 'Cinta', 'Dimas', 'Edi']"
            ]
          },
          "metadata": {},
          "execution_count": 77
        }
      ]
    },
    {
      "cell_type": "code",
      "source": [
        "# Slicing pada list\n",
        "print(nama_teman[0:3])"
      ],
      "metadata": {
        "colab": {
          "base_uri": "https://localhost:8080/"
        },
        "id": "uHSFW89B-LN8",
        "outputId": "43d608c9-7ee7-4516-a919-5d11556a5384"
      },
      "execution_count": 78,
      "outputs": [
        {
          "output_type": "stream",
          "name": "stdout",
          "text": [
            "['Asep', 'Bobby', 'Cinta']\n"
          ]
        }
      ]
    },
    {
      "cell_type": "code",
      "source": [
        "print(nama_teman[0:3:2])"
      ],
      "metadata": {
        "colab": {
          "base_uri": "https://localhost:8080/"
        },
        "id": "-usrVlkI-tY2",
        "outputId": "838cc39b-c2f8-4f26-98b2-730c6b66a6a2"
      },
      "execution_count": 79,
      "outputs": [
        {
          "output_type": "stream",
          "name": "stdout",
          "text": [
            "['Asep', 'Cinta']\n"
          ]
        }
      ]
    },
    {
      "cell_type": "code",
      "source": [
        "# Mengkombinasikan antara list dan looping\n",
        "# 'Asep', 'Bobby', 'Cinta', 'Dimas', 'Edi'\n",
        "for i in nama_teman:\n",
        "  print(i)"
      ],
      "metadata": {
        "colab": {
          "base_uri": "https://localhost:8080/"
        },
        "id": "ndyb6pVL_Js2",
        "outputId": "f1a4ef3a-dd85-4d61-ead1-9fc1bc8699be"
      },
      "execution_count": 80,
      "outputs": [
        {
          "output_type": "stream",
          "name": "stdout",
          "text": [
            "Asep\n",
            "Bobby\n",
            "Cinta\n",
            "Dimas\n",
            "Edi\n"
          ]
        }
      ]
    },
    {
      "cell_type": "code",
      "source": [
        "print(i)"
      ],
      "metadata": {
        "colab": {
          "base_uri": "https://localhost:8080/"
        },
        "id": "usDioBLZA8Sc",
        "outputId": "876bfa1a-fd11-45a6-eeea-71aed0ac712a"
      },
      "execution_count": 81,
      "outputs": [
        {
          "output_type": "stream",
          "name": "stdout",
          "text": [
            "Edi\n"
          ]
        }
      ]
    },
    {
      "cell_type": "code",
      "source": [
        "# append ( menambahkan satu value baru diakhir list )\n",
        "nama_teman.append('Farhan')\n",
        "print(nama_teman)"
      ],
      "metadata": {
        "colab": {
          "base_uri": "https://localhost:8080/"
        },
        "id": "Isd7ddII_W2Q",
        "outputId": "494b06fc-1542-4490-854b-3db713a9dc4f"
      },
      "execution_count": 82,
      "outputs": [
        {
          "output_type": "stream",
          "name": "stdout",
          "text": [
            "['Asep', 'Bobby', 'Cinta', 'Dimas', 'Edi', 'Farhan']\n"
          ]
        }
      ]
    },
    {
      "cell_type": "code",
      "source": [
        "for i in range(len(nama_teman)):\n",
        "  print(nama_teman[i])"
      ],
      "metadata": {
        "colab": {
          "base_uri": "https://localhost:8080/"
        },
        "id": "5bIixK_PBJ5T",
        "outputId": "2a7ff2e3-3f04-4aa3-dbda-45f6f0dd98b5"
      },
      "execution_count": 83,
      "outputs": [
        {
          "output_type": "stream",
          "name": "stdout",
          "text": [
            "Asep\n",
            "Bobby\n",
            "Cinta\n",
            "Dimas\n",
            "Edi\n",
            "Farhan\n"
          ]
        }
      ]
    },
    {
      "cell_type": "code",
      "source": [
        "for i in range(len(nama_teman)):\n",
        "  print(f\"{i+1} {nama_teman[i]}\")"
      ],
      "metadata": {
        "colab": {
          "base_uri": "https://localhost:8080/"
        },
        "id": "OnlSEb6yByQ3",
        "outputId": "c49cf809-7ee7-4d47-f1f9-c8028fe4b4bc"
      },
      "execution_count": 84,
      "outputs": [
        {
          "output_type": "stream",
          "name": "stdout",
          "text": [
            "1 Asep\n",
            "2 Bobby\n",
            "3 Cinta\n",
            "4 Dimas\n",
            "5 Edi\n",
            "6 Farhan\n"
          ]
        }
      ]
    },
    {
      "cell_type": "code",
      "source": [
        "print(list(enumerate(nama_teman)))"
      ],
      "metadata": {
        "colab": {
          "base_uri": "https://localhost:8080/"
        },
        "id": "GMAq9vUGFrKn",
        "outputId": "1834f041-4bbd-43e0-d6ed-316d25513309"
      },
      "execution_count": 85,
      "outputs": [
        {
          "output_type": "stream",
          "name": "stdout",
          "text": [
            "[(0, 'Asep'), (1, 'Bobby'), (2, 'Cinta'), (3, 'Dimas'), (4, 'Edi'), (5, 'Farhan')]\n"
          ]
        }
      ]
    },
    {
      "cell_type": "code",
      "source": [
        "# [(0, 'Asep'), (1, 'Bobby'), (2, 'Cinta'), (3, 'Dimas'), (4, 'Edi'), (5, 'Farhan')]\n",
        "\n",
        "for i, name in enumerate(nama_teman):\n",
        "  print(f\"{i+1} {name}\")"
      ],
      "metadata": {
        "colab": {
          "base_uri": "https://localhost:8080/"
        },
        "id": "svjolCtsF2rP",
        "outputId": "e3156c48-32a6-40ed-f275-6ab87d919a68"
      },
      "execution_count": 86,
      "outputs": [
        {
          "output_type": "stream",
          "name": "stdout",
          "text": [
            "1 Asep\n",
            "2 Bobby\n",
            "3 Cinta\n",
            "4 Dimas\n",
            "5 Edi\n",
            "6 Farhan\n"
          ]
        }
      ]
    },
    {
      "cell_type": "code",
      "source": [
        "i_name = list(enumerate(nama_teman))\n",
        "i_name"
      ],
      "metadata": {
        "colab": {
          "base_uri": "https://localhost:8080/"
        },
        "id": "rMZ3fCaaHuso",
        "outputId": "49faee28-cd04-4c5b-fa2a-40b46b1033f4"
      },
      "execution_count": 87,
      "outputs": [
        {
          "output_type": "execute_result",
          "data": {
            "text/plain": [
              "[(0, 'Asep'),\n",
              " (1, 'Bobby'),\n",
              " (2, 'Cinta'),\n",
              " (3, 'Dimas'),\n",
              " (4, 'Edi'),\n",
              " (5, 'Farhan')]"
            ]
          },
          "metadata": {},
          "execution_count": 87
        }
      ]
    },
    {
      "cell_type": "code",
      "source": [
        "i_name[2][1]"
      ],
      "metadata": {
        "colab": {
          "base_uri": "https://localhost:8080/",
          "height": 36
        },
        "id": "2XSRfBd_H-H9",
        "outputId": "9058f375-236c-4fe7-e1e4-2933dd380499"
      },
      "execution_count": 88,
      "outputs": [
        {
          "output_type": "execute_result",
          "data": {
            "text/plain": [
              "'Cinta'"
            ],
            "application/vnd.google.colaboratory.intrinsic+json": {
              "type": "string"
            }
          },
          "metadata": {},
          "execution_count": 88
        }
      ]
    },
    {
      "cell_type": "code",
      "source": [
        "# pop memindahkan isi list\n",
        "nama_teman.pop()"
      ],
      "metadata": {
        "colab": {
          "base_uri": "https://localhost:8080/",
          "height": 36
        },
        "id": "dCbI2zvyJdy6",
        "outputId": "a5ffa69b-90ba-405d-dd11-30c0aff1b3cb"
      },
      "execution_count": 89,
      "outputs": [
        {
          "output_type": "execute_result",
          "data": {
            "text/plain": [
              "'Farhan'"
            ],
            "application/vnd.google.colaboratory.intrinsic+json": {
              "type": "string"
            }
          },
          "metadata": {},
          "execution_count": 89
        }
      ]
    },
    {
      "cell_type": "code",
      "source": [
        "nama_teman"
      ],
      "metadata": {
        "colab": {
          "base_uri": "https://localhost:8080/"
        },
        "id": "v_O4LIXnJ-3G",
        "outputId": "c29d50ed-fc0d-4303-d64f-a95a5dea784f"
      },
      "execution_count": 93,
      "outputs": [
        {
          "output_type": "execute_result",
          "data": {
            "text/plain": [
              "['Asep', 'Bobby', 'Cinta', 'Dimas', 'Edi']"
            ]
          },
          "metadata": {},
          "execution_count": 93
        }
      ]
    },
    {
      "cell_type": "code",
      "source": [
        "x_teman = nama_teman.pop()\n",
        "x_teman"
      ],
      "metadata": {
        "colab": {
          "base_uri": "https://localhost:8080/",
          "height": 36
        },
        "id": "UynEeAVGJhqt",
        "outputId": "749c54e1-28eb-45ab-dba7-3dcb78e3efaf"
      },
      "execution_count": 94,
      "outputs": [
        {
          "output_type": "execute_result",
          "data": {
            "text/plain": [
              "'Edi'"
            ],
            "application/vnd.google.colaboratory.intrinsic+json": {
              "type": "string"
            }
          },
          "metadata": {},
          "execution_count": 94
        }
      ]
    },
    {
      "cell_type": "code",
      "source": [
        "nama_teman.append('Asep')"
      ],
      "metadata": {
        "id": "E0Ck4O02J7sp"
      },
      "execution_count": 95,
      "outputs": []
    },
    {
      "cell_type": "code",
      "source": [
        "nama_teman"
      ],
      "metadata": {
        "colab": {
          "base_uri": "https://localhost:8080/"
        },
        "id": "dTe2WNhKKRN3",
        "outputId": "b1caf7e2-26ee-41a4-c4de-f5a99fb90a6d"
      },
      "execution_count": 96,
      "outputs": [
        {
          "output_type": "execute_result",
          "data": {
            "text/plain": [
              "['Asep', 'Bobby', 'Cinta', 'Dimas', 'Asep']"
            ]
          },
          "metadata": {},
          "execution_count": 96
        }
      ]
    },
    {
      "cell_type": "code",
      "source": [
        "nama_teman.count('Asep')"
      ],
      "metadata": {
        "colab": {
          "base_uri": "https://localhost:8080/"
        },
        "id": "QykO4H9HKSQW",
        "outputId": "f581ea46-45b3-49ba-e451-35ab7891b0ef"
      },
      "execution_count": 97,
      "outputs": [
        {
          "output_type": "execute_result",
          "data": {
            "text/plain": [
              "2"
            ]
          },
          "metadata": {},
          "execution_count": 97
        }
      ]
    },
    {
      "cell_type": "code",
      "source": [
        "nama_teman.index('Bobby')"
      ],
      "metadata": {
        "colab": {
          "base_uri": "https://localhost:8080/"
        },
        "id": "RrGddqj0KVBm",
        "outputId": "71ec8775-4833-4065-96f1-5a33a7ad7969"
      },
      "execution_count": 98,
      "outputs": [
        {
          "output_type": "execute_result",
          "data": {
            "text/plain": [
              "1"
            ]
          },
          "metadata": {},
          "execution_count": 98
        }
      ]
    },
    {
      "cell_type": "code",
      "source": [
        "nama_teman.index('Asep')"
      ],
      "metadata": {
        "colab": {
          "base_uri": "https://localhost:8080/"
        },
        "id": "0RyJJWrPKsNW",
        "outputId": "390edead-ef83-4c90-ef22-05aba2b06dde"
      },
      "execution_count": 99,
      "outputs": [
        {
          "output_type": "execute_result",
          "data": {
            "text/plain": [
              "0"
            ]
          },
          "metadata": {},
          "execution_count": 99
        }
      ]
    },
    {
      "cell_type": "code",
      "source": [
        "kelas_b = ['Ayu', 'Bunga', 'Citra', 'Dini']\n",
        "kelas_b"
      ],
      "metadata": {
        "colab": {
          "base_uri": "https://localhost:8080/"
        },
        "id": "IDhZW3hXKvbc",
        "outputId": "cc3008f0-5b20-4645-e971-b75d4154425c"
      },
      "execution_count": 100,
      "outputs": [
        {
          "output_type": "execute_result",
          "data": {
            "text/plain": [
              "['Ayu', 'Bunga', 'Citra', 'Dini']"
            ]
          },
          "metadata": {},
          "execution_count": 100
        }
      ]
    },
    {
      "cell_type": "code",
      "source": [
        "kelas_b.insert(2, 'Emi')"
      ],
      "metadata": {
        "id": "iPyV-0n1L0vZ"
      },
      "execution_count": 101,
      "outputs": []
    },
    {
      "cell_type": "code",
      "source": [
        "kelas_b"
      ],
      "metadata": {
        "colab": {
          "base_uri": "https://localhost:8080/"
        },
        "id": "a3nxdwFjL5OE",
        "outputId": "f4b90527-f327-45f8-a676-1a49a8fbd25f"
      },
      "execution_count": 102,
      "outputs": [
        {
          "output_type": "execute_result",
          "data": {
            "text/plain": [
              "['Ayu', 'Bunga', 'Emi', 'Citra', 'Dini']"
            ]
          },
          "metadata": {},
          "execution_count": 102
        }
      ]
    },
    {
      "cell_type": "code",
      "source": [
        "# remove menghapus isi list\n",
        "kelas_b.remove('Bunga')"
      ],
      "metadata": {
        "id": "fSPX6flML6az"
      },
      "execution_count": 103,
      "outputs": []
    },
    {
      "cell_type": "code",
      "source": [
        "kelas_b"
      ],
      "metadata": {
        "colab": {
          "base_uri": "https://localhost:8080/"
        },
        "id": "92OcKC7aMIqG",
        "outputId": "cfdad622-8ce4-45e0-ba10-614a706135ae"
      },
      "execution_count": 104,
      "outputs": [
        {
          "output_type": "execute_result",
          "data": {
            "text/plain": [
              "['Ayu', 'Emi', 'Citra', 'Dini']"
            ]
          },
          "metadata": {},
          "execution_count": 104
        }
      ]
    },
    {
      "cell_type": "code",
      "source": [
        "# sort mengurutkan angka by default dari terkecil ke terbesar\n",
        "angka = [5,3,6,7,1,2,9]\n",
        "angka.sort()"
      ],
      "metadata": {
        "id": "pLDKW7FWMJzf"
      },
      "execution_count": 106,
      "outputs": []
    },
    {
      "cell_type": "code",
      "source": [
        "angka"
      ],
      "metadata": {
        "colab": {
          "base_uri": "https://localhost:8080/"
        },
        "id": "aaGapKmEMfP0",
        "outputId": "45568a22-704f-466a-921f-43e2a4817978"
      },
      "execution_count": 109,
      "outputs": [
        {
          "output_type": "execute_result",
          "data": {
            "text/plain": [
              "[1, 2, 3, 5, 6, 7, 9]"
            ]
          },
          "metadata": {},
          "execution_count": 109
        }
      ]
    },
    {
      "cell_type": "code",
      "source": [
        "angka.sort(reverse=True)\n",
        "angka"
      ],
      "metadata": {
        "colab": {
          "base_uri": "https://localhost:8080/"
        },
        "id": "pEj_B8U2Ml5o",
        "outputId": "77502451-df6a-4e1e-b5ea-aeaa01d0b0da"
      },
      "execution_count": 111,
      "outputs": [
        {
          "output_type": "execute_result",
          "data": {
            "text/plain": [
              "[9, 7, 6, 5, 3, 2, 1]"
            ]
          },
          "metadata": {},
          "execution_count": 111
        }
      ]
    },
    {
      "cell_type": "code",
      "source": [
        "angka.reverse()"
      ],
      "metadata": {
        "id": "yuO64XCVM185"
      },
      "execution_count": 114,
      "outputs": []
    },
    {
      "cell_type": "code",
      "source": [
        "angka"
      ],
      "metadata": {
        "colab": {
          "base_uri": "https://localhost:8080/"
        },
        "id": "R6exSREzM_Nf",
        "outputId": "a2082489-76c9-468a-ecaa-ce5182accaa6"
      },
      "execution_count": 116,
      "outputs": [
        {
          "output_type": "execute_result",
          "data": {
            "text/plain": [
              "[1, 2, 3, 5, 6, 7, 9]"
            ]
          },
          "metadata": {},
          "execution_count": 116
        }
      ]
    },
    {
      "cell_type": "code",
      "source": [
        "angka_copy = angka.copy()"
      ],
      "metadata": {
        "id": "e4gUdqF4NHAJ"
      },
      "execution_count": 117,
      "outputs": []
    },
    {
      "cell_type": "code",
      "source": [
        "angka"
      ],
      "metadata": {
        "colab": {
          "base_uri": "https://localhost:8080/"
        },
        "id": "GoPR4xoINUF7",
        "outputId": "153faf50-735f-482a-a212-f027fd09d36c"
      },
      "execution_count": 118,
      "outputs": [
        {
          "output_type": "execute_result",
          "data": {
            "text/plain": [
              "[1, 2, 3, 5, 6, 7, 9]"
            ]
          },
          "metadata": {},
          "execution_count": 118
        }
      ]
    },
    {
      "cell_type": "code",
      "source": [
        "angka_copy"
      ],
      "metadata": {
        "colab": {
          "base_uri": "https://localhost:8080/"
        },
        "id": "b-S1-ZEbNVAK",
        "outputId": "85eb1fea-dd57-41aa-aece-eee8ae9e64ea"
      },
      "execution_count": 119,
      "outputs": [
        {
          "output_type": "execute_result",
          "data": {
            "text/plain": [
              "[1, 2, 3, 5, 6, 7, 9]"
            ]
          },
          "metadata": {},
          "execution_count": 119
        }
      ]
    },
    {
      "cell_type": "code",
      "source": [
        "angka_ = angka"
      ],
      "metadata": {
        "id": "Omul3OZaNYMt"
      },
      "execution_count": 120,
      "outputs": []
    },
    {
      "cell_type": "code",
      "source": [
        "angka_.clear()\n",
        "angka"
      ],
      "metadata": {
        "colab": {
          "base_uri": "https://localhost:8080/"
        },
        "id": "Mv_s7AkmN3sP",
        "outputId": "c5aff5e1-fee2-4266-aceb-9f46cb92f89e"
      },
      "execution_count": 125,
      "outputs": [
        {
          "output_type": "execute_result",
          "data": {
            "text/plain": [
              "[]"
            ]
          },
          "metadata": {},
          "execution_count": 125
        }
      ]
    },
    {
      "cell_type": "markdown",
      "source": [
        "# Tuple"
      ],
      "metadata": {
        "id": "9kA2DOeVWEpU"
      }
    },
    {
      "cell_type": "code",
      "source": [
        "bil_tuple = (10,20,30,40,50)\n",
        "bil_tuple"
      ],
      "metadata": {
        "colab": {
          "base_uri": "https://localhost:8080/"
        },
        "id": "rwQLmoaDSkXE",
        "outputId": "6c4e7709-8820-4196-94c6-d3095b2b4628"
      },
      "execution_count": 126,
      "outputs": [
        {
          "output_type": "execute_result",
          "data": {
            "text/plain": [
              "(10, 20, 30, 40, 50)"
            ]
          },
          "metadata": {},
          "execution_count": 126
        }
      ]
    },
    {
      "cell_type": "code",
      "source": [
        "bil_tuple.append(60)"
      ],
      "metadata": {
        "colab": {
          "base_uri": "https://localhost:8080/",
          "height": 141
        },
        "id": "UU6YU92LWKd1",
        "outputId": "a14fd56f-ddab-488c-89bc-e84cd66702f9"
      },
      "execution_count": 128,
      "outputs": [
        {
          "output_type": "error",
          "ename": "AttributeError",
          "evalue": "'tuple' object has no attribute 'append'",
          "traceback": [
            "\u001b[0;31m---------------------------------------------------------------------------\u001b[0m",
            "\u001b[0;31mAttributeError\u001b[0m                            Traceback (most recent call last)",
            "\u001b[0;32m<ipython-input-128-25d599f2b5dc>\u001b[0m in \u001b[0;36m<cell line: 0>\u001b[0;34m()\u001b[0m\n\u001b[0;32m----> 1\u001b[0;31m \u001b[0mbil_tuple\u001b[0m\u001b[0;34m.\u001b[0m\u001b[0mappend\u001b[0m\u001b[0;34m(\u001b[0m\u001b[0;36m60\u001b[0m\u001b[0;34m)\u001b[0m\u001b[0;34m\u001b[0m\u001b[0;34m\u001b[0m\u001b[0m\n\u001b[0m",
            "\u001b[0;31mAttributeError\u001b[0m: 'tuple' object has no attribute 'append'"
          ]
        }
      ]
    },
    {
      "cell_type": "code",
      "source": [
        "bil_tuple.count(10)"
      ],
      "metadata": {
        "colab": {
          "base_uri": "https://localhost:8080/"
        },
        "id": "gFZZJ_hYWNRz",
        "outputId": "c92383ce-2d2b-4bb8-90d7-e7ea3802c7f9"
      },
      "execution_count": 129,
      "outputs": [
        {
          "output_type": "execute_result",
          "data": {
            "text/plain": [
              "1"
            ]
          },
          "metadata": {},
          "execution_count": 129
        }
      ]
    },
    {
      "cell_type": "code",
      "source": [
        "len(bil_tuple)"
      ],
      "metadata": {
        "colab": {
          "base_uri": "https://localhost:8080/"
        },
        "id": "ZSReMMl5WTG3",
        "outputId": "294ce767-0505-4fc0-8eaa-77a4b4f5779e"
      },
      "execution_count": 130,
      "outputs": [
        {
          "output_type": "execute_result",
          "data": {
            "text/plain": [
              "5"
            ]
          },
          "metadata": {},
          "execution_count": 130
        }
      ]
    },
    {
      "cell_type": "code",
      "source": [
        "bil_tuple[0]"
      ],
      "metadata": {
        "colab": {
          "base_uri": "https://localhost:8080/"
        },
        "id": "0wcRrNemWVSB",
        "outputId": "bc6ccfbe-af03-4b04-9075-17bc2c3463cd"
      },
      "execution_count": 131,
      "outputs": [
        {
          "output_type": "execute_result",
          "data": {
            "text/plain": [
              "10"
            ]
          },
          "metadata": {},
          "execution_count": 131
        }
      ]
    },
    {
      "cell_type": "code",
      "source": [
        "bil_tuple[0:3]"
      ],
      "metadata": {
        "colab": {
          "base_uri": "https://localhost:8080/"
        },
        "id": "5hzjek6kWXI_",
        "outputId": "a51f76ea-8a10-475b-a550-0d2ea2aa0008"
      },
      "execution_count": 132,
      "outputs": [
        {
          "output_type": "execute_result",
          "data": {
            "text/plain": [
              "(10, 20, 30)"
            ]
          },
          "metadata": {},
          "execution_count": 132
        }
      ]
    },
    {
      "cell_type": "code",
      "source": [
        "bil_tuple.index(20)"
      ],
      "metadata": {
        "colab": {
          "base_uri": "https://localhost:8080/"
        },
        "id": "ogs3XZ0TWZzI",
        "outputId": "04b6c219-e1b1-4326-c54c-e4ca86fee10e"
      },
      "execution_count": 134,
      "outputs": [
        {
          "output_type": "execute_result",
          "data": {
            "text/plain": [
              "1"
            ]
          },
          "metadata": {},
          "execution_count": 134
        }
      ]
    },
    {
      "cell_type": "code",
      "source": [
        "bil_list = list(bil_tuple)\n",
        "bil_list"
      ],
      "metadata": {
        "colab": {
          "base_uri": "https://localhost:8080/"
        },
        "id": "bSebYaJEWcWn",
        "outputId": "1c2c5f90-6e7d-4d8a-fdcc-6fbf71a902ca"
      },
      "execution_count": 137,
      "outputs": [
        {
          "output_type": "execute_result",
          "data": {
            "text/plain": [
              "[10, 20, 30, 40, 50]"
            ]
          },
          "metadata": {},
          "execution_count": 137
        }
      ]
    },
    {
      "cell_type": "code",
      "source": [
        "bil_tuple_2 = tuple(bil_list)\n",
        "bil_tuple_2"
      ],
      "metadata": {
        "colab": {
          "base_uri": "https://localhost:8080/"
        },
        "id": "1lvZbfSNWih_",
        "outputId": "5b8ff7ce-1c35-467f-c0fe-752c5d601e73"
      },
      "execution_count": 138,
      "outputs": [
        {
          "output_type": "execute_result",
          "data": {
            "text/plain": [
              "(10, 20, 30, 40, 50)"
            ]
          },
          "metadata": {},
          "execution_count": 138
        }
      ]
    },
    {
      "cell_type": "markdown",
      "source": [
        "# SET"
      ],
      "metadata": {
        "id": "u9VlJyewWsFE"
      }
    },
    {
      "cell_type": "code",
      "source": [
        "buah = {'Jeruk', 'Apel', 'Mangga', 'Anggur'}\n",
        "buah"
      ],
      "metadata": {
        "colab": {
          "base_uri": "https://localhost:8080/"
        },
        "id": "TjAQTL_KWpov",
        "outputId": "c7d34ed3-870a-45c9-d78c-d5e2449b2052"
      },
      "execution_count": 140,
      "outputs": [
        {
          "output_type": "execute_result",
          "data": {
            "text/plain": [
              "{'Anggur', 'Apel', 'Jeruk', 'Mangga'}"
            ]
          },
          "metadata": {},
          "execution_count": 140
        }
      ]
    },
    {
      "cell_type": "code",
      "source": [
        "buah = {'Jeruk', 'Apel', 'Mangga', 'Anggur', 'Jeruk'}\n",
        "buah"
      ],
      "metadata": {
        "colab": {
          "base_uri": "https://localhost:8080/"
        },
        "id": "9TT9zoHFW0yI",
        "outputId": "0f2a5af2-2753-4bd8-c407-6b9df7d88d1c"
      },
      "execution_count": 141,
      "outputs": [
        {
          "output_type": "execute_result",
          "data": {
            "text/plain": [
              "{'Anggur', 'Apel', 'Jeruk', 'Mangga'}"
            ]
          },
          "metadata": {},
          "execution_count": 141
        }
      ]
    },
    {
      "cell_type": "code",
      "source": [
        "len(buah)"
      ],
      "metadata": {
        "colab": {
          "base_uri": "https://localhost:8080/"
        },
        "id": "IvFrejAxW8ct",
        "outputId": "6280f3ac-4b7a-43d0-ec34-b285f2168243"
      },
      "execution_count": 142,
      "outputs": [
        {
          "output_type": "execute_result",
          "data": {
            "text/plain": [
              "4"
            ]
          },
          "metadata": {},
          "execution_count": 142
        }
      ]
    },
    {
      "cell_type": "code",
      "source": [
        "buah.add('Pepaya')"
      ],
      "metadata": {
        "id": "lYoIj1U4W-UQ"
      },
      "execution_count": 143,
      "outputs": []
    },
    {
      "cell_type": "code",
      "source": [
        "buah"
      ],
      "metadata": {
        "colab": {
          "base_uri": "https://localhost:8080/"
        },
        "id": "YOzdzrR9XA8f",
        "outputId": "9f5f0aa2-fb91-406a-ecf5-abe39c73ae97"
      },
      "execution_count": 144,
      "outputs": [
        {
          "output_type": "execute_result",
          "data": {
            "text/plain": [
              "{'Anggur', 'Apel', 'Jeruk', 'Mangga', 'Pepaya'}"
            ]
          },
          "metadata": {},
          "execution_count": 144
        }
      ]
    },
    {
      "cell_type": "code",
      "source": [
        "buah.update(['Nanas', 'Kiwi', 'Pisang'])"
      ],
      "metadata": {
        "id": "Abpq8lG6XCVV"
      },
      "execution_count": 153,
      "outputs": []
    },
    {
      "cell_type": "code",
      "source": [
        "buah"
      ],
      "metadata": {
        "colab": {
          "base_uri": "https://localhost:8080/"
        },
        "id": "lACwgPPOXK9Q",
        "outputId": "52c69390-1ec9-4bfa-a997-3232b21ef7f4"
      },
      "execution_count": 154,
      "outputs": [
        {
          "output_type": "execute_result",
          "data": {
            "text/plain": [
              "{'Anggur',\n",
              " 'Apel',\n",
              " 'Jeruk',\n",
              " 'Kiwi',\n",
              " 'Lemon',\n",
              " 'Mangga',\n",
              " 'Nanas',\n",
              " 'Pepaya',\n",
              " 'Pisang',\n",
              " 'Semangka'}"
            ]
          },
          "metadata": {},
          "execution_count": 154
        }
      ]
    },
    {
      "cell_type": "code",
      "source": [
        "buah.update({'Lemon', 'Semangka'})"
      ],
      "metadata": {
        "id": "j4pe2uYhXLVl"
      },
      "execution_count": 155,
      "outputs": []
    },
    {
      "cell_type": "code",
      "source": [
        "buah"
      ],
      "metadata": {
        "colab": {
          "base_uri": "https://localhost:8080/"
        },
        "id": "JRoDmnDGXbPE",
        "outputId": "3a93ea72-810b-4eda-cafc-b82a36c5f7ee"
      },
      "execution_count": 156,
      "outputs": [
        {
          "output_type": "execute_result",
          "data": {
            "text/plain": [
              "{'Anggur',\n",
              " 'Apel',\n",
              " 'Jeruk',\n",
              " 'Kiwi',\n",
              " 'Lemon',\n",
              " 'Mangga',\n",
              " 'Nanas',\n",
              " 'Pepaya',\n",
              " 'Pisang',\n",
              " 'Semangka'}"
            ]
          },
          "metadata": {},
          "execution_count": 156
        }
      ]
    },
    {
      "cell_type": "code",
      "source": [
        "buah.remove('Pisang')"
      ],
      "metadata": {
        "id": "wTAMsx5aYeH4"
      },
      "execution_count": 157,
      "outputs": []
    },
    {
      "cell_type": "code",
      "source": [
        "buah"
      ],
      "metadata": {
        "colab": {
          "base_uri": "https://localhost:8080/"
        },
        "id": "TPiwvSTvXcPl",
        "outputId": "cf8aae86-5770-41be-f1b2-563b2c3eef1f"
      },
      "execution_count": 158,
      "outputs": [
        {
          "output_type": "execute_result",
          "data": {
            "text/plain": [
              "{'Anggur',\n",
              " 'Apel',\n",
              " 'Jeruk',\n",
              " 'Kiwi',\n",
              " 'Lemon',\n",
              " 'Mangga',\n",
              " 'Nanas',\n",
              " 'Pepaya',\n",
              " 'Semangka'}"
            ]
          },
          "metadata": {},
          "execution_count": 158
        }
      ]
    },
    {
      "cell_type": "code",
      "source": [
        "buah.remove('Pisang')"
      ],
      "metadata": {
        "colab": {
          "base_uri": "https://localhost:8080/",
          "height": 141
        },
        "id": "L5SVGiRJX0xF",
        "outputId": "332ad413-c0d8-48af-de24-bce3c8fcb485"
      },
      "execution_count": 159,
      "outputs": [
        {
          "output_type": "error",
          "ename": "KeyError",
          "evalue": "'Pisang'",
          "traceback": [
            "\u001b[0;31m---------------------------------------------------------------------------\u001b[0m",
            "\u001b[0;31mKeyError\u001b[0m                                  Traceback (most recent call last)",
            "\u001b[0;32m<ipython-input-159-40bd1338cb6f>\u001b[0m in \u001b[0;36m<cell line: 0>\u001b[0;34m()\u001b[0m\n\u001b[0;32m----> 1\u001b[0;31m \u001b[0mbuah\u001b[0m\u001b[0;34m.\u001b[0m\u001b[0mremove\u001b[0m\u001b[0;34m(\u001b[0m\u001b[0;34m'Pisang'\u001b[0m\u001b[0;34m)\u001b[0m\u001b[0;34m\u001b[0m\u001b[0;34m\u001b[0m\u001b[0m\n\u001b[0m",
            "\u001b[0;31mKeyError\u001b[0m: 'Pisang'"
          ]
        }
      ]
    },
    {
      "cell_type": "code",
      "source": [
        "buah.discard('Pisang')"
      ],
      "metadata": {
        "id": "ofgpoiC5X48l"
      },
      "execution_count": 160,
      "outputs": []
    },
    {
      "cell_type": "code",
      "source": [
        "'Semangka' in buah"
      ],
      "metadata": {
        "colab": {
          "base_uri": "https://localhost:8080/"
        },
        "id": "CuzDINfmZMEA",
        "outputId": "8d9a7757-ab8a-4757-89da-5d04468d4f38"
      },
      "execution_count": 161,
      "outputs": [
        {
          "output_type": "execute_result",
          "data": {
            "text/plain": [
              "True"
            ]
          },
          "metadata": {},
          "execution_count": 161
        }
      ]
    },
    {
      "cell_type": "code",
      "source": [
        "buah"
      ],
      "metadata": {
        "colab": {
          "base_uri": "https://localhost:8080/"
        },
        "id": "jTVMrAbPZUan",
        "outputId": "fa765c0f-eb30-4e26-957e-9f7c32cc04bd"
      },
      "execution_count": 162,
      "outputs": [
        {
          "output_type": "execute_result",
          "data": {
            "text/plain": [
              "{'Anggur',\n",
              " 'Apel',\n",
              " 'Jeruk',\n",
              " 'Kiwi',\n",
              " 'Lemon',\n",
              " 'Mangga',\n",
              " 'Nanas',\n",
              " 'Pepaya',\n",
              " 'Semangka'}"
            ]
          },
          "metadata": {},
          "execution_count": 162
        }
      ]
    },
    {
      "cell_type": "code",
      "source": [
        "buah.difference({'Kiwi', 'Pisang', 'Mangga'})"
      ],
      "metadata": {
        "colab": {
          "base_uri": "https://localhost:8080/"
        },
        "id": "3tV0IulrZbFZ",
        "outputId": "83987d7f-3b2b-480e-ecce-a050d6a637a3"
      },
      "execution_count": 165,
      "outputs": [
        {
          "output_type": "execute_result",
          "data": {
            "text/plain": [
              "{'Anggur', 'Apel', 'Jeruk', 'Lemon', 'Nanas', 'Pepaya', 'Semangka'}"
            ]
          },
          "metadata": {},
          "execution_count": 165
        }
      ]
    },
    {
      "cell_type": "code",
      "source": [
        "buah.intersection({'Kiwi', 'Pisang', 'Mangga'})"
      ],
      "metadata": {
        "colab": {
          "base_uri": "https://localhost:8080/"
        },
        "id": "q9kAGwCVZjPf",
        "outputId": "37d596f3-34a6-4f59-febb-8f9302098f92"
      },
      "execution_count": 166,
      "outputs": [
        {
          "output_type": "execute_result",
          "data": {
            "text/plain": [
              "{'Kiwi', 'Mangga'}"
            ]
          },
          "metadata": {},
          "execution_count": 166
        }
      ]
    },
    {
      "cell_type": "code",
      "source": [
        "({'Kiwi', 'Pisang', 'Mangga'}).difference(buah)"
      ],
      "metadata": {
        "colab": {
          "base_uri": "https://localhost:8080/"
        },
        "id": "0P72TnidZ0iC",
        "outputId": "f8b92959-09de-4d8d-a1d8-e4b58fafd522"
      },
      "execution_count": 167,
      "outputs": [
        {
          "output_type": "execute_result",
          "data": {
            "text/plain": [
              "{'Pisang'}"
            ]
          },
          "metadata": {},
          "execution_count": 167
        }
      ]
    },
    {
      "cell_type": "code",
      "source": [
        "buah.union({'Kiwi', 'Pisang', 'Mangga'})"
      ],
      "metadata": {
        "colab": {
          "base_uri": "https://localhost:8080/"
        },
        "id": "Kf-FBtSwZ9V8",
        "outputId": "24d1cab2-7fff-463a-ce22-db09b32cecd2"
      },
      "execution_count": 169,
      "outputs": [
        {
          "output_type": "execute_result",
          "data": {
            "text/plain": [
              "{'Anggur',\n",
              " 'Apel',\n",
              " 'Jeruk',\n",
              " 'Kiwi',\n",
              " 'Lemon',\n",
              " 'Mangga',\n",
              " 'Nanas',\n",
              " 'Pepaya',\n",
              " 'Pisang',\n",
              " 'Semangka'}"
            ]
          },
          "metadata": {},
          "execution_count": 169
        }
      ]
    },
    {
      "cell_type": "markdown",
      "source": [
        "# Dictionary"
      ],
      "metadata": {
        "id": "RbxDPgv4aZOy"
      }
    },
    {
      "cell_type": "code",
      "source": [
        "pegawai = {\n",
        "    'Nama'  : 'Dicky',\n",
        "    'Usia'  : 30,\n",
        "    'Role'  : 'Data Analyst',\n",
        "    'Dept'  : 'Marketing'\n",
        "}"
      ],
      "metadata": {
        "id": "6XhryVZEaBp0"
      },
      "execution_count": 170,
      "outputs": []
    },
    {
      "cell_type": "code",
      "source": [
        "pegawai['Nama']"
      ],
      "metadata": {
        "colab": {
          "base_uri": "https://localhost:8080/",
          "height": 36
        },
        "id": "HnAnwesXa_xB",
        "outputId": "9df54889-3999-441d-82b1-8cc67fea1be6"
      },
      "execution_count": 171,
      "outputs": [
        {
          "output_type": "execute_result",
          "data": {
            "text/plain": [
              "'Dicky'"
            ],
            "application/vnd.google.colaboratory.intrinsic+json": {
              "type": "string"
            }
          },
          "metadata": {},
          "execution_count": 171
        }
      ]
    },
    {
      "cell_type": "code",
      "source": [
        "pegawai['Nama'] = 'Ricky'\n",
        "pegawai"
      ],
      "metadata": {
        "colab": {
          "base_uri": "https://localhost:8080/"
        },
        "id": "RhsYfAG4bE8G",
        "outputId": "1dbf4bef-2dab-4f21-b1c1-687097f2507b"
      },
      "execution_count": 175,
      "outputs": [
        {
          "output_type": "execute_result",
          "data": {
            "text/plain": [
              "{'Nama': 'Ricky', 'Usia': 30, 'Role': 'Data Analyst', 'Dept': 'Marketing'}"
            ]
          },
          "metadata": {},
          "execution_count": 175
        }
      ]
    },
    {
      "cell_type": "code",
      "source": [
        "pegawai['Gaji'] = 1000000"
      ],
      "metadata": {
        "id": "CoF_zPMabKdW"
      },
      "execution_count": 176,
      "outputs": []
    },
    {
      "cell_type": "code",
      "source": [
        "pegawai"
      ],
      "metadata": {
        "colab": {
          "base_uri": "https://localhost:8080/"
        },
        "id": "0HqscOWQbNKr",
        "outputId": "a7663865-6837-4758-e78a-7bef7638b84b"
      },
      "execution_count": 177,
      "outputs": [
        {
          "output_type": "execute_result",
          "data": {
            "text/plain": [
              "{'Nama': 'Ricky',\n",
              " 'Usia': 30,\n",
              " 'Role': 'Data Analyst',\n",
              " 'Dept': 'Marketing',\n",
              " 'Gaji': 1000000}"
            ]
          },
          "metadata": {},
          "execution_count": 177
        }
      ]
    },
    {
      "cell_type": "code",
      "source": [
        "del pegawai['Gaji']"
      ],
      "metadata": {
        "id": "-JJ4wT0HbXY8"
      },
      "execution_count": 178,
      "outputs": []
    },
    {
      "cell_type": "code",
      "source": [
        "pegawai"
      ],
      "metadata": {
        "colab": {
          "base_uri": "https://localhost:8080/"
        },
        "id": "IgcnVM_obcZ2",
        "outputId": "7471425b-6410-4882-de81-89cdebac5ed7"
      },
      "execution_count": 179,
      "outputs": [
        {
          "output_type": "execute_result",
          "data": {
            "text/plain": [
              "{'Nama': 'Ricky', 'Usia': 30, 'Role': 'Data Analyst', 'Dept': 'Marketing'}"
            ]
          },
          "metadata": {},
          "execution_count": 179
        }
      ]
    },
    {
      "cell_type": "code",
      "source": [
        "pegawai.keys()"
      ],
      "metadata": {
        "colab": {
          "base_uri": "https://localhost:8080/"
        },
        "id": "upse0xrHbdhZ",
        "outputId": "327c9e5b-bdf7-4a10-a7e4-ea8aa065617f"
      },
      "execution_count": 180,
      "outputs": [
        {
          "output_type": "execute_result",
          "data": {
            "text/plain": [
              "dict_keys(['Nama', 'Usia', 'Role', 'Dept'])"
            ]
          },
          "metadata": {},
          "execution_count": 180
        }
      ]
    },
    {
      "cell_type": "code",
      "source": [
        "pegawai.values()"
      ],
      "metadata": {
        "colab": {
          "base_uri": "https://localhost:8080/"
        },
        "id": "XfIE2HDgbyjL",
        "outputId": "2195a0fb-69fb-48bd-f51e-5465498e6a8e"
      },
      "execution_count": 181,
      "outputs": [
        {
          "output_type": "execute_result",
          "data": {
            "text/plain": [
              "dict_values(['Ricky', 30, 'Data Analyst', 'Marketing'])"
            ]
          },
          "metadata": {},
          "execution_count": 181
        }
      ]
    },
    {
      "cell_type": "code",
      "source": [
        "pegawai.items()"
      ],
      "metadata": {
        "colab": {
          "base_uri": "https://localhost:8080/"
        },
        "id": "gmWP0pWvb0IL",
        "outputId": "5b1468a1-6474-416e-8c76-f3ddcf2945c3"
      },
      "execution_count": 182,
      "outputs": [
        {
          "output_type": "execute_result",
          "data": {
            "text/plain": [
              "dict_items([('Nama', 'Ricky'), ('Usia', 30), ('Role', 'Data Analyst'), ('Dept', 'Marketing')])"
            ]
          },
          "metadata": {},
          "execution_count": 182
        }
      ]
    },
    {
      "cell_type": "code",
      "source": [
        "for key, value in pegawai.items():\n",
        "  print(f\"{key} : {value}\")"
      ],
      "metadata": {
        "colab": {
          "base_uri": "https://localhost:8080/"
        },
        "id": "AnffpYlRb3Z3",
        "outputId": "204949ca-66e0-4eec-b61a-6d46faae9d3a"
      },
      "execution_count": 183,
      "outputs": [
        {
          "output_type": "stream",
          "name": "stdout",
          "text": [
            "Nama : Ricky\n",
            "Usia : 30\n",
            "Role : Data Analyst\n",
            "Dept : Marketing\n"
          ]
        }
      ]
    },
    {
      "cell_type": "code",
      "source": [
        "copy_pegawai = pegawai.copy()"
      ],
      "metadata": {
        "id": "ZPFJBUCScBJ6"
      },
      "execution_count": 184,
      "outputs": []
    },
    {
      "cell_type": "code",
      "source": [
        "copy_pegawai"
      ],
      "metadata": {
        "colab": {
          "base_uri": "https://localhost:8080/"
        },
        "id": "_7PWhcpycPWR",
        "outputId": "9619a46a-0d6b-4720-ea61-edba3994c50b"
      },
      "execution_count": 185,
      "outputs": [
        {
          "output_type": "execute_result",
          "data": {
            "text/plain": [
              "{'Nama': 'Ricky', 'Usia': 30, 'Role': 'Data Analyst', 'Dept': 'Marketing'}"
            ]
          },
          "metadata": {},
          "execution_count": 185
        }
      ]
    },
    {
      "cell_type": "code",
      "source": [
        "pegawai['Gaji'] = 1000000"
      ],
      "metadata": {
        "id": "Yxh9bdgvcQwm"
      },
      "execution_count": 186,
      "outputs": []
    },
    {
      "cell_type": "code",
      "source": [
        "pegawai"
      ],
      "metadata": {
        "colab": {
          "base_uri": "https://localhost:8080/"
        },
        "id": "hyTffEFNcWT_",
        "outputId": "8cfd69fc-0327-46a6-aaef-90ccc53d9afe"
      },
      "execution_count": 187,
      "outputs": [
        {
          "output_type": "execute_result",
          "data": {
            "text/plain": [
              "{'Nama': 'Ricky',\n",
              " 'Usia': 30,\n",
              " 'Role': 'Data Analyst',\n",
              " 'Dept': 'Marketing',\n",
              " 'Gaji': 1000000}"
            ]
          },
          "metadata": {},
          "execution_count": 187
        }
      ]
    },
    {
      "cell_type": "code",
      "source": [
        "copy_pegawai"
      ],
      "metadata": {
        "colab": {
          "base_uri": "https://localhost:8080/"
        },
        "id": "IfyeK-iscXTq",
        "outputId": "1be1c119-c5ac-4e2e-f83c-172a54efe826"
      },
      "execution_count": 188,
      "outputs": [
        {
          "output_type": "execute_result",
          "data": {
            "text/plain": [
              "{'Nama': 'Ricky', 'Usia': 30, 'Role': 'Data Analyst', 'Dept': 'Marketing'}"
            ]
          },
          "metadata": {},
          "execution_count": 188
        }
      ]
    },
    {
      "cell_type": "code",
      "source": [
        "copy_pegawai.clear()"
      ],
      "metadata": {
        "id": "5Y2Yb1_zcYWZ"
      },
      "execution_count": 189,
      "outputs": []
    },
    {
      "cell_type": "code",
      "source": [
        "copy_pegawai"
      ],
      "metadata": {
        "colab": {
          "base_uri": "https://localhost:8080/"
        },
        "id": "Zn2oWkeIcfQ7",
        "outputId": "0fc5dfc9-3333-4200-8a93-248297e901be"
      },
      "execution_count": 190,
      "outputs": [
        {
          "output_type": "execute_result",
          "data": {
            "text/plain": [
              "{}"
            ]
          },
          "metadata": {},
          "execution_count": 190
        }
      ]
    }
  ]
}