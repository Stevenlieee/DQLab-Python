{
  "nbformat": 4,
  "nbformat_minor": 0,
  "metadata": {
    "colab": {
      "provenance": []
    },
    "kernelspec": {
      "name": "python3",
      "display_name": "Python 3"
    },
    "language_info": {
      "name": "python"
    }
  },
  "cells": [
    {
      "cell_type": "code",
      "execution_count": 7,
      "metadata": {
        "id": "UX20W51oAQdd",
        "colab": {
          "base_uri": "https://localhost:8080/"
        },
        "outputId": "05e3ae0a-86b5-4be5-f102-83c84d82e627"
      },
      "outputs": [
        {
          "output_type": "stream",
          "name": "stdout",
          "text": [
            "Hello\n",
            "I am Batman\n",
            "I kill you\n"
          ]
        }
      ],
      "source": [
        "print(\"\"\"Hello\n",
        "I am Batman\n",
        "I kill you\"\"\")"
      ]
    },
    {
      "cell_type": "markdown",
      "source": [
        "# Numeric"
      ],
      "metadata": {
        "id": "TqJ6Wy8JTB4a"
      }
    },
    {
      "cell_type": "code",
      "source": [
        "x = 5\n",
        "print(x)"
      ],
      "metadata": {
        "colab": {
          "base_uri": "https://localhost:8080/"
        },
        "id": "cVsU6Ak_S5xV",
        "outputId": "0f25f765-9d28-45c9-e93a-8b5bc30ce501"
      },
      "execution_count": 9,
      "outputs": [
        {
          "output_type": "stream",
          "name": "stdout",
          "text": [
            "5\n"
          ]
        }
      ]
    },
    {
      "cell_type": "code",
      "source": [
        "type(x)"
      ],
      "metadata": {
        "colab": {
          "base_uri": "https://localhost:8080/"
        },
        "id": "n8krS7XSTM0q",
        "outputId": "1d47aadd-f6d4-4c10-d140-c9d82afee9e1"
      },
      "execution_count": 10,
      "outputs": [
        {
          "output_type": "execute_result",
          "data": {
            "text/plain": [
              "int"
            ]
          },
          "metadata": {},
          "execution_count": 10
        }
      ]
    },
    {
      "cell_type": "code",
      "source": [
        "y = 3.14\n",
        "print(y)"
      ],
      "metadata": {
        "colab": {
          "base_uri": "https://localhost:8080/"
        },
        "id": "OS0h8Xb_TY0X",
        "outputId": "7a5c53a8-65b8-4fca-8351-f8c35f1601a0"
      },
      "execution_count": 11,
      "outputs": [
        {
          "output_type": "stream",
          "name": "stdout",
          "text": [
            "3.14\n"
          ]
        }
      ]
    },
    {
      "cell_type": "code",
      "source": [
        "type(y)"
      ],
      "metadata": {
        "colab": {
          "base_uri": "https://localhost:8080/"
        },
        "id": "owHw4oDwThQK",
        "outputId": "2a00e6d6-5bd7-493f-c7db-44e20f3f863d"
      },
      "execution_count": 12,
      "outputs": [
        {
          "output_type": "execute_result",
          "data": {
            "text/plain": [
              "float"
            ]
          },
          "metadata": {},
          "execution_count": 12
        }
      ]
    },
    {
      "cell_type": "code",
      "source": [
        "print(x + y) # penjumlahan\n",
        "print(x - y) # pengurangan\n",
        "print(x * y) # perkalian\n",
        "print(x ** y) # pangkat\n",
        "print(x / y) # pembagian - float\n",
        "print(x // y) # pembagian - float bulat kebawah\n",
        "print(x % y) # modulo"
      ],
      "metadata": {
        "colab": {
          "base_uri": "https://localhost:8080/"
        },
        "id": "V6iCJAH6TiyI",
        "outputId": "244e31f8-0d6b-4a86-d806-a0438387fb13"
      },
      "execution_count": 16,
      "outputs": [
        {
          "output_type": "stream",
          "name": "stdout",
          "text": [
            "8.14\n",
            "15.700000000000001\n",
            "1.592356687898089\n",
            "1.0\n",
            "1.8599999999999999\n",
            "156.59064522818883\n"
          ]
        }
      ]
    },
    {
      "cell_type": "code",
      "source": [
        "import math\n",
        "print(math.ceil(x/y)) #float bulat ke atas\n",
        "print(math.floor(x/y)) #float bulat ke bawah\n",
        "print(math.pi) #nilai phi\n"
      ],
      "metadata": {
        "colab": {
          "base_uri": "https://localhost:8080/"
        },
        "id": "hiVA8X_zTzDu",
        "outputId": "2778320d-a76c-4545-f9cd-d86bcdf3647c"
      },
      "execution_count": 21,
      "outputs": [
        {
          "output_type": "stream",
          "name": "stdout",
          "text": [
            "2\n",
            "1\n",
            "3.141592653589793\n"
          ]
        }
      ]
    },
    {
      "cell_type": "markdown",
      "source": [
        "# Boolean"
      ],
      "metadata": {
        "id": "zd5vQhGzV8q2"
      }
    },
    {
      "cell_type": "code",
      "source": [
        "True"
      ],
      "metadata": {
        "colab": {
          "base_uri": "https://localhost:8080/"
        },
        "id": "3xSme9h9U0An",
        "outputId": "8bd776b3-1896-4735-c399-328c4bd24018"
      },
      "execution_count": 22,
      "outputs": [
        {
          "output_type": "execute_result",
          "data": {
            "text/plain": [
              "True"
            ]
          },
          "metadata": {},
          "execution_count": 22
        }
      ]
    },
    {
      "cell_type": "code",
      "source": [
        "False"
      ],
      "metadata": {
        "colab": {
          "base_uri": "https://localhost:8080/"
        },
        "id": "kWAeGVElWJn5",
        "outputId": "f858d0fc-80b6-4493-87f0-a732f10e30c3"
      },
      "execution_count": 23,
      "outputs": [
        {
          "output_type": "execute_result",
          "data": {
            "text/plain": [
              "False"
            ]
          },
          "metadata": {},
          "execution_count": 23
        }
      ]
    },
    {
      "cell_type": "code",
      "source": [
        "5 > 3"
      ],
      "metadata": {
        "colab": {
          "base_uri": "https://localhost:8080/"
        },
        "id": "G4fAoe72WKKX",
        "outputId": "6e7c0d63-2f9d-48de-d3b9-6c343d63edba"
      },
      "execution_count": 24,
      "outputs": [
        {
          "output_type": "execute_result",
          "data": {
            "text/plain": [
              "True"
            ]
          },
          "metadata": {},
          "execution_count": 24
        }
      ]
    },
    {
      "cell_type": "code",
      "source": [
        "3 > 5"
      ],
      "metadata": {
        "colab": {
          "base_uri": "https://localhost:8080/"
        },
        "id": "28IEXIpeWPgR",
        "outputId": "95132f40-1eb4-4f7e-ba7c-16b280c708d5"
      },
      "execution_count": 26,
      "outputs": [
        {
          "output_type": "execute_result",
          "data": {
            "text/plain": [
              "False"
            ]
          },
          "metadata": {},
          "execution_count": 26
        }
      ]
    },
    {
      "cell_type": "code",
      "source": [
        "not 5 > 3"
      ],
      "metadata": {
        "colab": {
          "base_uri": "https://localhost:8080/"
        },
        "id": "69TLEwCTWQvh",
        "outputId": "a6d78c05-d66b-4aa4-e01d-0b18fb8b97d5"
      },
      "execution_count": 27,
      "outputs": [
        {
          "output_type": "execute_result",
          "data": {
            "text/plain": [
              "False"
            ]
          },
          "metadata": {},
          "execution_count": 27
        }
      ]
    },
    {
      "cell_type": "code",
      "source": [
        "True + True"
      ],
      "metadata": {
        "colab": {
          "base_uri": "https://localhost:8080/"
        },
        "id": "DYjVg4IBWx3k",
        "outputId": "95be08ee-534c-4577-96e0-83cc7bbf6392"
      },
      "execution_count": 28,
      "outputs": [
        {
          "output_type": "execute_result",
          "data": {
            "text/plain": [
              "2"
            ]
          },
          "metadata": {},
          "execution_count": 28
        }
      ]
    },
    {
      "cell_type": "code",
      "source": [
        "False - False"
      ],
      "metadata": {
        "colab": {
          "base_uri": "https://localhost:8080/"
        },
        "id": "0ZgfuShyW4YA",
        "outputId": "84dd8680-bea0-47b3-ae61-9c917e3c653f"
      },
      "execution_count": 29,
      "outputs": [
        {
          "output_type": "execute_result",
          "data": {
            "text/plain": [
              "0"
            ]
          },
          "metadata": {},
          "execution_count": 29
        }
      ]
    },
    {
      "cell_type": "code",
      "source": [
        "True + False"
      ],
      "metadata": {
        "colab": {
          "base_uri": "https://localhost:8080/"
        },
        "id": "28lRx45WW6zg",
        "outputId": "6616f560-d770-43e7-c724-0cb9cf790d5f"
      },
      "execution_count": 30,
      "outputs": [
        {
          "output_type": "execute_result",
          "data": {
            "text/plain": [
              "1"
            ]
          },
          "metadata": {},
          "execution_count": 30
        }
      ]
    },
    {
      "cell_type": "code",
      "source": [
        "True == 1"
      ],
      "metadata": {
        "colab": {
          "base_uri": "https://localhost:8080/"
        },
        "id": "R4Hqa0D-XFt7",
        "outputId": "cfddaec5-f81d-4b23-9b48-ca172d8c6960"
      },
      "execution_count": 31,
      "outputs": [
        {
          "output_type": "execute_result",
          "data": {
            "text/plain": [
              "True"
            ]
          },
          "metadata": {},
          "execution_count": 31
        }
      ]
    },
    {
      "cell_type": "code",
      "source": [
        "False == 0"
      ],
      "metadata": {
        "colab": {
          "base_uri": "https://localhost:8080/"
        },
        "id": "tF3T666EXG48",
        "outputId": "b50e06af-0175-46e9-cb43-818d6495f9b8"
      },
      "execution_count": 32,
      "outputs": [
        {
          "output_type": "execute_result",
          "data": {
            "text/plain": [
              "True"
            ]
          },
          "metadata": {},
          "execution_count": 32
        }
      ]
    },
    {
      "cell_type": "code",
      "source": [
        "if 5 > 3:\n",
        "  print(\"hello\")\n",
        "else:\n",
        "  print(\"goodbye\")"
      ],
      "metadata": {
        "colab": {
          "base_uri": "https://localhost:8080/"
        },
        "id": "3pnv8t_8XIFX",
        "outputId": "b0cbf0b4-ba4f-4cf7-8cfd-ea15f64ae56c"
      },
      "execution_count": 36,
      "outputs": [
        {
          "output_type": "stream",
          "name": "stdout",
          "text": [
            "hello\n"
          ]
        }
      ]
    },
    {
      "cell_type": "code",
      "source": [
        "if 3 > 5:\n",
        "  print(\"hello\")\n",
        "else:\n",
        "  print(\"goodbye\")"
      ],
      "metadata": {
        "colab": {
          "base_uri": "https://localhost:8080/"
        },
        "id": "sj3vHIOpXbHk",
        "outputId": "4be0fe73-a9be-4391-9590-e4e715d0c0a0"
      },
      "execution_count": 37,
      "outputs": [
        {
          "output_type": "stream",
          "name": "stdout",
          "text": [
            "goodbye\n"
          ]
        }
      ]
    },
    {
      "cell_type": "code",
      "source": [
        "True and False"
      ],
      "metadata": {
        "colab": {
          "base_uri": "https://localhost:8080/"
        },
        "id": "apA6c4sTYCL0",
        "outputId": "a1ea2767-21ae-4d8c-b178-d4f2e5c6f388"
      },
      "execution_count": 42,
      "outputs": [
        {
          "output_type": "execute_result",
          "data": {
            "text/plain": [
              "False"
            ]
          },
          "metadata": {},
          "execution_count": 42
        }
      ]
    },
    {
      "cell_type": "code",
      "source": [
        "True or False"
      ],
      "metadata": {
        "colab": {
          "base_uri": "https://localhost:8080/"
        },
        "id": "hnx0fy7QYVQc",
        "outputId": "9f092347-0f7b-4648-cb0a-7f55c63607f9"
      },
      "execution_count": 43,
      "outputs": [
        {
          "output_type": "execute_result",
          "data": {
            "text/plain": [
              "True"
            ]
          },
          "metadata": {},
          "execution_count": 43
        }
      ]
    },
    {
      "cell_type": "code",
      "source": [
        "False or False"
      ],
      "metadata": {
        "colab": {
          "base_uri": "https://localhost:8080/"
        },
        "id": "Sr7V1OmRYa5x",
        "outputId": "c5636f9e-51ac-4920-cb94-7723efade0b2"
      },
      "execution_count": 44,
      "outputs": [
        {
          "output_type": "execute_result",
          "data": {
            "text/plain": [
              "False"
            ]
          },
          "metadata": {},
          "execution_count": 44
        }
      ]
    },
    {
      "cell_type": "code",
      "source": [
        "False and False"
      ],
      "metadata": {
        "colab": {
          "base_uri": "https://localhost:8080/"
        },
        "id": "P5hMsEddYf8b",
        "outputId": "eb5a80c4-7390-4f72-de65-ea8d2cac973e"
      },
      "execution_count": 45,
      "outputs": [
        {
          "output_type": "execute_result",
          "data": {
            "text/plain": [
              "False"
            ]
          },
          "metadata": {},
          "execution_count": 45
        }
      ]
    },
    {
      "cell_type": "code",
      "source": [
        "True and True"
      ],
      "metadata": {
        "colab": {
          "base_uri": "https://localhost:8080/"
        },
        "id": "qdAzLOVuYo1E",
        "outputId": "19bfa16e-9e7e-4a77-d7ef-8a165e2e0532"
      },
      "execution_count": 46,
      "outputs": [
        {
          "output_type": "execute_result",
          "data": {
            "text/plain": [
              "True"
            ]
          },
          "metadata": {},
          "execution_count": 46
        }
      ]
    },
    {
      "cell_type": "markdown",
      "source": [
        "# Conditional Statement"
      ],
      "metadata": {
        "id": "d8kUgejaZHq9"
      }
    },
    {
      "cell_type": "code",
      "source": [
        "# Operasi perbandingan melibatkan operator:\n",
        "# == (sama dengan)\n",
        "# != (tidak sama dengan)\n",
        "# > (lebih besar)\n",
        "# < (lebih kecil)\n",
        "# >= (lebih besar atau sama dengan)\n",
        "# <= (lebih kecil atau sama dengan)\n",
        "# % (habis dibagi)\n",
        "# Operasi perbandingan akan menghasilkan True atau False"
      ],
      "metadata": {
        "id": "ThvGNwQTYpuM"
      },
      "execution_count": 49,
      "outputs": []
    },
    {
      "cell_type": "code",
      "source": [
        "x = int(input(\"Masukkan nilai x:\"))\n",
        "if x > 4:\n",
        "  print(\"Nilai x lebih dari 4\")\n",
        "elif x == 4:\n",
        "  print(\"Nilai x sama dengan 4\")\n",
        "else:\n",
        "  print(\"Nilai x kurang dari 4\")"
      ],
      "metadata": {
        "colab": {
          "base_uri": "https://localhost:8080/"
        },
        "id": "Q-sa7-8yZUGj",
        "outputId": "46437f38-1523-42ce-c42d-f828387ffe36"
      },
      "execution_count": 52,
      "outputs": [
        {
          "output_type": "stream",
          "name": "stdout",
          "text": [
            "Masukkan nilai x:3\n",
            "Nilai x kurang dari 4\n"
          ]
        }
      ]
    },
    {
      "cell_type": "code",
      "source": [
        "x = int(input(\"Masukkan nilai x:\"))\n",
        "if x > 4:\n",
        "  print(\"Nilai x lebih dari 4\")\n",
        "elif x == 4:\n",
        "  print(\"Nilai x sama dengan 4\")\n",
        "else:\n",
        "  print(\"Nilai x kurang dari 4\")"
      ],
      "metadata": {
        "colab": {
          "base_uri": "https://localhost:8080/"
        },
        "id": "7AbFK2ILebZ5",
        "outputId": "501a5abc-1452-4885-806f-4b7a560c08cf"
      },
      "execution_count": 53,
      "outputs": [
        {
          "output_type": "stream",
          "name": "stdout",
          "text": [
            "Masukkan nilai x:4\n",
            "Nilai x sama dengan 4\n"
          ]
        }
      ]
    },
    {
      "cell_type": "code",
      "source": [
        "x = int(input(\"Masukkan nilai x:\"))\n",
        "if x > 4:\n",
        "  print(\"Nilai x lebih dari 4\")\n",
        "elif x == 4:\n",
        "  print(\"Nilai x sama dengan 4\")\n",
        "else:\n",
        "  print(\"Nilai x kurang dari 4\")"
      ],
      "metadata": {
        "colab": {
          "base_uri": "https://localhost:8080/"
        },
        "id": "j007FwGJfb69",
        "outputId": "52d82e41-42cb-42c2-f840-d100f09ec8c7"
      },
      "execution_count": 54,
      "outputs": [
        {
          "output_type": "stream",
          "name": "stdout",
          "text": [
            "Masukkan nilai x:5\n",
            "Nilai x lebih dari 4\n"
          ]
        }
      ]
    },
    {
      "cell_type": "code",
      "source": [
        "x = int(input(\"Masukkan nilai x:\"))\n",
        "if x % 2 == 0:\n",
        "  print(\"x bilangan genap\")\n",
        "else:\n",
        "  print(\"x bilangan ganjil\")"
      ],
      "metadata": {
        "colab": {
          "base_uri": "https://localhost:8080/"
        },
        "id": "tB6CBMeWfhoN",
        "outputId": "7ebd79ef-e546-4411-d04e-94bc1f492fd7"
      },
      "execution_count": 65,
      "outputs": [
        {
          "output_type": "stream",
          "name": "stdout",
          "text": [
            "Masukkan nilai x:5\n",
            "x bilangan ganjil\n"
          ]
        }
      ]
    },
    {
      "cell_type": "code",
      "source": [
        "x = int(input(\"Masukkan nilai x: \"))\n",
        "y = int(input(\"Masukkan nilai y: \"))\n",
        "if (x % 2 == 0) and (y % 3 == 0):\n",
        "  print(\"x dan y bilangan yang habis dibagi 2 dan 3 \")\n",
        "else:\n",
        "  print(\"salah satu dari x atau y adalah bilangan yang tidak habis dibagi 2 dan 3\")"
      ],
      "metadata": {
        "colab": {
          "base_uri": "https://localhost:8080/"
        },
        "id": "H_u-bIS5g1EY",
        "outputId": "e32a0c12-40db-4bc2-d3c2-0542662cf88d"
      },
      "execution_count": 67,
      "outputs": [
        {
          "output_type": "stream",
          "name": "stdout",
          "text": [
            "Masukkan nilai x: 2\n",
            "Masukkan nilai y: 3\n",
            "x dan y bilangan yang habis dibagi 2 dan 3 \n"
          ]
        }
      ]
    },
    {
      "cell_type": "code",
      "source": [
        "x = int(input(\"Masukkan nilai x: \"))\n",
        "y = int(input(\"Masukkan nilai y: \"))\n",
        "if (x % 2 == 0) and (y % 3 == 0):\n",
        "  print(\"x dan y bilangan yang habis dibagi 2 dan 3 \")\n",
        "else:\n",
        "  print(\"salah satu dari x atau y adalah bilangan yang tidak habis dibagi 2 dan 3\")"
      ],
      "metadata": {
        "colab": {
          "base_uri": "https://localhost:8080/"
        },
        "id": "bZoy0xPujH5i",
        "outputId": "49acfca1-464d-4753-b779-706aad0d847c"
      },
      "execution_count": 68,
      "outputs": [
        {
          "output_type": "stream",
          "name": "stdout",
          "text": [
            "Masukkan nilai x: 6\n",
            "Masukkan nilai y: 10\n",
            "salah satu dari x atau y adalah bilangan yang tidak habis dibagi 2 dan 3\n"
          ]
        }
      ]
    },
    {
      "cell_type": "markdown",
      "source": [
        "# Latihan"
      ],
      "metadata": {
        "id": "K2svd0tEuIFv"
      }
    },
    {
      "cell_type": "code",
      "source": [
        "# bmi = body mass index\n",
        "# weight ( kg )\n",
        "# height ( cm )\n",
        "# bmi = weight ( kg ) / height (m)^2\n",
        "# kalau bmi kurang dari 18.5 print (\"anda underweight\")\n",
        "# kalau bmi lebih besar sama dengan 18.5 sampai kurang dari 24.9 print (\"anda healthy\")\n",
        "# kalau bmi lebih besar sama dengan 24.9 sampai kurang dari 29.9 print (\"anda overweight\")\n",
        "# selain itu print (\"anda obesitas\")"
      ],
      "metadata": {
        "id": "qFt5JlwqjOqc"
      },
      "execution_count": 69,
      "outputs": []
    },
    {
      "cell_type": "code",
      "source": [
        "# BMI: Body Mass Index\n",
        "# Input berat dalam kg dan tinggi dalam cm\n",
        "\n",
        "weight = float(input(\"Masukkan berat badan (kg): \"))\n",
        "height_cm = float(input(\"Masukkan tinggi badan (cm): \"))\n",
        "\n",
        "# Ubah tinggi ke meter\n",
        "height_m = height_cm / 100\n",
        "\n",
        "# Hitung BMI\n",
        "bmi = weight / (height_m ** 2)\n",
        "print(f\"BMI anda adalah : {bmi}\")\n",
        "\n",
        "# Cek kategori BMI\n",
        "if bmi < 18.5:\n",
        "    print(\"Anda underweight\")\n",
        "elif 18.5 <= bmi < 24.9:\n",
        "    print(\"Anda Healthy\")\n",
        "elif 24.9 <= bmi < 29.9:\n",
        "    print(\"Anda Overweight\")\n",
        "else:\n",
        "    print(\"Anda obesitas\")"
      ],
      "metadata": {
        "colab": {
          "base_uri": "https://localhost:8080/"
        },
        "id": "x8dvkCzHmuxH",
        "outputId": "2172fd02-98c9-4b4f-b7e0-ddc725430957"
      },
      "execution_count": 85,
      "outputs": [
        {
          "output_type": "stream",
          "name": "stdout",
          "text": [
            "Masukkan berat badan (kg): 80\n",
            "Masukkan tinggi badan (cm): 180\n",
            "BMI anda adalah : 24.691358024691358\n",
            "Anda Healthy\n"
          ]
        }
      ]
    },
    {
      "cell_type": "code",
      "source": [
        "# buatlah segitiga berikut\n",
        "# *\n",
        "# **\n",
        "# ***\n",
        "# ****\n",
        "# *****\n",
        "\n",
        "for i in range(1,6):\n",
        "  print(\"*\" * i)"
      ],
      "metadata": {
        "colab": {
          "base_uri": "https://localhost:8080/"
        },
        "id": "Ez73dFdnm9h1",
        "outputId": "6030fcde-5465-4c80-fc3e-82b62b0ee55f"
      },
      "execution_count": 86,
      "outputs": [
        {
          "output_type": "stream",
          "name": "stdout",
          "text": [
            "*\n",
            "**\n",
            "***\n",
            "****\n",
            "*****\n"
          ]
        }
      ]
    },
    {
      "cell_type": "markdown",
      "source": [
        "# String"
      ],
      "metadata": {
        "id": "GsOO9MaEuKit"
      }
    },
    {
      "cell_type": "code",
      "source": [
        "print(' Hello Lie')\n",
        "print(\" Hello Lie\")\n",
        "print(\"\"\"Hello Lie\n",
        "You Good\"\"\")"
      ],
      "metadata": {
        "colab": {
          "base_uri": "https://localhost:8080/"
        },
        "id": "K7KZ0oHBtDhJ",
        "outputId": "eabbd8d2-4b2e-47b6-b095-641686755502"
      },
      "execution_count": 88,
      "outputs": [
        {
          "output_type": "stream",
          "name": "stdout",
          "text": [
            " Hello Lie\n",
            " Hello Lie\n",
            "Hello Lie\n",
            "You Good\n"
          ]
        }
      ]
    },
    {
      "cell_type": "code",
      "source": [
        "\"I am\" + \"Steven\""
      ],
      "metadata": {
        "colab": {
          "base_uri": "https://localhost:8080/",
          "height": 36
        },
        "id": "fg6LoyaHuUod",
        "outputId": "916c2b48-e688-4a54-a32f-039335d25d48"
      },
      "execution_count": 89,
      "outputs": [
        {
          "output_type": "execute_result",
          "data": {
            "text/plain": [
              "'I amSteven'"
            ],
            "application/vnd.google.colaboratory.intrinsic+json": {
              "type": "string"
            }
          },
          "metadata": {},
          "execution_count": 89
        }
      ]
    },
    {
      "cell_type": "code",
      "source": [
        "\"I am \" + \"Steven\""
      ],
      "metadata": {
        "colab": {
          "base_uri": "https://localhost:8080/",
          "height": 36
        },
        "id": "_pZN6PItvUdW",
        "outputId": "a334f5c4-bcec-4a3b-c71d-5a7780b7b963"
      },
      "execution_count": 90,
      "outputs": [
        {
          "output_type": "execute_result",
          "data": {
            "text/plain": [
              "'I am Steven'"
            ],
            "application/vnd.google.colaboratory.intrinsic+json": {
              "type": "string"
            }
          },
          "metadata": {},
          "execution_count": 90
        }
      ]
    },
    {
      "cell_type": "code",
      "source": [
        "\"I am\" + \" Steven\""
      ],
      "metadata": {
        "colab": {
          "base_uri": "https://localhost:8080/",
          "height": 36
        },
        "id": "ZzhmEJg4vW8A",
        "outputId": "76cd0f53-ad8f-4274-f572-8c8f6739b7fa"
      },
      "execution_count": 111,
      "outputs": [
        {
          "output_type": "execute_result",
          "data": {
            "text/plain": [
              "'I am Steven'"
            ],
            "application/vnd.google.colaboratory.intrinsic+json": {
              "type": "string"
            }
          },
          "metadata": {},
          "execution_count": 111
        }
      ]
    }
  ]
}